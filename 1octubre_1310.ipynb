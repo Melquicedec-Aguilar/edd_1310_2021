{
  "nbformat": 4,
  "nbformat_minor": 0,
  "metadata": {
    "colab": {
      "name": "1octubre_1310.ipynb",
      "provenance": [],
      "authorship_tag": "ABX9TyO9vFwXbwrgHnkS0Bx2YWpP",
      "include_colab_link": true
    },
    "kernelspec": {
      "name": "python3",
      "display_name": "Python 3"
    }
  },
  "cells": [
    {
      "cell_type": "markdown",
      "metadata": {
        "id": "view-in-github",
        "colab_type": "text"
      },
      "source": [
        "<a href=\"https://colab.research.google.com/github/Melquicedec-Aguilar/edd_1310_2021/blob/master/1octubre_1310.ipynb\" target=\"_parent\"><img src=\"https://colab.research.google.com/assets/colab-badge.svg\" alt=\"Open In Colab\"/></a>"
      ]
    },
    {
      "cell_type": "markdown",
      "metadata": {
        "id": "JvBjrr4T7rkC"
      },
      "source": [
        "## Intro Python 3\n",
        "### Variables\n",
        "tipo dinámico\n",
        "escuela = 'FES Aragón'"
      ]
    },
    {
      "cell_type": "code",
      "metadata": {
        "id": "gwmzendo8Cbj",
        "outputId": "75cca5a4-224c-45a8-b66f-358a2c74dd84",
        "colab": {
          "base_uri": "https://localhost:8080/",
          "height": 187
        }
      },
      "source": [
        "escuela = 'Fes Aragón'\n",
        "print(escuela)\n",
        "print('==================')\n",
        "edad = 13\n",
        "estatura = 1.67\n",
        "fumador = True\n",
        "frase = \"\"\"\n",
        "Esta es\n",
        "una\n",
        "frase\n",
        "de multiples líneas\n",
        "y también es\n",
        "un tipo de dato\n",
        "\"\"\"\n",
        "print(frase)\n",
        "nombre = 'jose'\n",
        "nombre_completo = \"jose sosa cardenas\"\n",
        "\n"
      ],
      "execution_count": 3,
      "outputs": [
        {
          "output_type": "stream",
          "text": [
            "Fes Aragón\n",
            "==================\n",
            "\n",
            "Esta es\n",
            "una\n",
            "frase\n",
            "de multiples líneas\n",
            "y también es\n",
            "un tipo de dato\n",
            "\n"
          ],
          "name": "stdout"
        }
      ]
    },
    {
      "cell_type": "markdown",
      "metadata": {
        "id": "uZemFp6s91Gp"
      },
      "source": [
        "# Print\n",
        "con comas ,\n",
        "\n",
        "con signo mas +\n",
        "\n",
        "con format ()\n",
        "\n",
        "con el operador f\"\""
      ]
    },
    {
      "cell_type": "code",
      "metadata": {
        "id": "yXjMNgd3-B-k",
        "outputId": "167317aa-bd60-44e0-ed42-81758f4fefa6",
        "colab": {
          "base_uri": "https://localhost:8080/",
          "height": 34
        }
      },
      "source": [
        "# la coma agrega un espacio\n",
        "print(nombre, edad)"
      ],
      "execution_count": 4,
      "outputs": [
        {
          "output_type": "stream",
          "text": [
            "jose 13\n"
          ],
          "name": "stdout"
        }
      ]
    },
    {
      "cell_type": "code",
      "metadata": {
        "id": "ndEaZeHs_CAu",
        "outputId": "7b186be9-4393-441c-8d4c-8ab91be9910a",
        "colab": {
          "base_uri": "https://localhost:8080/",
          "height": 51
        }
      },
      "source": [
        "# el + concatena cadena y no agrega un espacio\n",
        "print(nombre + str(edad))\n",
        "print(nombre + nombre_completo)"
      ],
      "execution_count": 8,
      "outputs": [
        {
          "output_type": "stream",
          "text": [
            "jose13\n",
            "josejose sosa cardenas\n"
          ],
          "name": "stdout"
        }
      ]
    },
    {
      "cell_type": "code",
      "metadata": {
        "id": "8Vk7LLrO_8VG",
        "outputId": "df0f08ed-14a9-49f2-c825-68f4a672c216",
        "colab": {
          "base_uri": "https://localhost:8080/",
          "height": 85
        }
      },
      "source": [
        "# con format () -> Su nombre es Jose y su edad es de 13 años.\n",
        "# podemos imprimir dandole argumentos \n",
        "print(\"Su nombre es\",nombre,\"y su edad es de\",edad,'años.')\n",
        "print(\"Su nombre es {0} y su edad es de {1} años.\".format(nombre, edad))\n",
        "print(\"Su nombre es {1} y su edad es de {0} años.\".format(nombre, edad))\n",
        "print(\"Su nombre es {} y su edad es de {} años.\".format(nombre, edad))"
      ],
      "execution_count": 15,
      "outputs": [
        {
          "output_type": "stream",
          "text": [
            "Su nombre es jose y su edad es de 13 años.\n",
            "Su nombre es jose y su edad es de 13 años.\n",
            "Su nombre es 13 y su edad es de jose años.\n",
            "Su nombre es jose y su edad es de 13 años.\n"
          ],
          "name": "stdout"
        }
      ]
    },
    {
      "cell_type": "code",
      "metadata": {
        "id": "gd_CoAU9BvBA",
        "outputId": "8cb8a486-957f-4ee3-c1b4-57544abdfbe3",
        "colab": {
          "base_uri": "https://localhost:8080/",
          "height": 34
        }
      },
      "source": [
        "# con formato con el operador f\"\"\n",
        "\n",
        "print (f\"Su nombre es \\\"{nombre}\\\" y su edad es de {edad} años.\")"
      ],
      "execution_count": 17,
      "outputs": [
        {
          "output_type": "stream",
          "text": [
            "Su nombre es \"jose\" y su edad es de 13 años.\n"
          ],
          "name": "stdout"
        }
      ]
    },
    {
      "cell_type": "markdown",
      "metadata": {
        "id": "bzrw7xA7CQjh"
      },
      "source": [
        "# Carácter de escape\n",
        "\\n salto de línea\n",
        "\n",
        "\\t tabulador\n",
        "\n",
        "\\a beep\n",
        "\n",
        "\\\\\" imprimir comilla doble\n",
        "\n",
        "\\\\' imprimir comilla simple"
      ]
    },
    {
      "cell_type": "code",
      "metadata": {
        "id": "BahNH4BkDGka",
        "outputId": "d1a15292-d98f-46cf-8164-b9e970a2f062",
        "colab": {
          "base_uri": "https://localhost:8080/",
          "height": 51
        }
      },
      "source": [
        "\"\"\"\n",
        "Esto es \n",
        "un comentario\n",
        "de multiple línea\n",
        "\"\"\"\n",
        "print(f\"\\tMi nombre es\\n\\t\\t {nombre}\")"
      ],
      "execution_count": 20,
      "outputs": [
        {
          "output_type": "stream",
          "text": [
            "\tMi nombre es\n",
            "\t\t jose\n"
          ],
          "name": "stdout"
        }
      ]
    },
    {
      "cell_type": "markdown",
      "metadata": {
        "id": "epBNXJMvDnF3"
      },
      "source": [
        "# Ayuda de tipos de datos en python\n",
        "dir()\n",
        "\n",
        "help()"
      ]
    },
    {
      "cell_type": "code",
      "metadata": {
        "id": "1g76VEunEMIf"
      },
      "source": [
        "# str, int, float, boolean, list, dict, set\n",
        "# ver los métodos \n",
        "help(str)"
      ],
      "execution_count": null,
      "outputs": []
    },
    {
      "cell_type": "code",
      "metadata": {
        "id": "XJ7oacyXFL1W",
        "outputId": "3036d9d9-6daa-4422-9219-7f983c12c90c",
        "colab": {
          "base_uri": "https://localhost:8080/",
          "height": 51
        }
      },
      "source": [
        "print(nombre_completo.capitalize())\n",
        "print(nombre_completo.upper(), end=\"----\")\n",
        "print(nombre_completo.title())"
      ],
      "execution_count": 28,
      "outputs": [
        {
          "output_type": "stream",
          "text": [
            "Jose sosa cardenas\n",
            "JOSE SOSA CARDENAS----Jose Sosa Cardenas\n"
          ],
          "name": "stdout"
        }
      ]
    },
    {
      "cell_type": "code",
      "metadata": {
        "id": "mZYr85xjGBIb"
      },
      "source": [
        "help(print)"
      ],
      "execution_count": null,
      "outputs": []
    },
    {
      "cell_type": "markdown",
      "metadata": {
        "id": "Xped4WoOGnt8"
      },
      "source": [
        "# clase String \n",
        "Es manejada como un arreglo(c o java) o lista (python)\n",
        "\n",
        "telefono = \"Huawei mate 30 pro\" \n",
        "\n",
        "print(telefono[0])"
      ]
    },
    {
      "cell_type": "code",
      "metadata": {
        "id": "ds3p1qWqHzLn",
        "outputId": "ee318d98-6023-4414-cfe9-3f922d08ddeb",
        "colab": {
          "base_uri": "https://localhost:8080/",
          "height": 34
        }
      },
      "source": [
        "telefono = \"Huawei mate 30 pro\"\n",
        "print(telefono[0])"
      ],
      "execution_count": 29,
      "outputs": [
        {
          "output_type": "stream",
          "text": [
            "H\n"
          ],
          "name": "stdout"
        }
      ]
    },
    {
      "cell_type": "markdown",
      "metadata": {
        "id": "ZKh2FSwBIJZs"
      },
      "source": [
        "# Slicing (rebanado)\n",
        "[inicio:stop:incremento]\n",
        "\n",
        "nota: el stop no se incluye, termina en el valor anterior al stop"
      ]
    },
    {
      "cell_type": "code",
      "metadata": {
        "id": "FgC-GwwlIW6f",
        "outputId": "7c10f578-fefa-40dc-d780-374f516dfca2",
        "colab": {
          "base_uri": "https://localhost:8080/",
          "height": 102
        }
      },
      "source": [
        "print(telefono[7:11:1])\n",
        "# el inicio y el incremento son opcionales \n",
        "print(telefono[:11:])\n",
        "# el valor por defecto de stop es len(str)\n",
        "print(telefono[::])\n",
        "#incremento nedativo\n",
        "print(telefono[::-1])\n",
        "ini = -3\n",
        "inc = 1\n",
        "print(telefono[ini::inc])"
      ],
      "execution_count": 40,
      "outputs": [
        {
          "output_type": "stream",
          "text": [
            "mate\n",
            "Huawei mate\n",
            "Huawei mate 30 pro\n",
            "orp 03 etam iewauH\n",
            "pro\n"
          ],
          "name": "stdout"
        }
      ]
    },
    {
      "cell_type": "markdown",
      "metadata": {
        "id": "AJlcQIJyNLe8"
      },
      "source": [
        "# métods de string (str)\n",
        "Existen métodos muy útiles en esta clase.\n"
      ]
    },
    {
      "cell_type": "code",
      "metadata": {
        "id": "jLetlJ1cOKVH",
        "outputId": "33bff56a-7b9e-402e-9d5d-390e145f36b2",
        "colab": {
          "base_uri": "https://localhost:8080/",
          "height": 289
        }
      },
      "source": [
        "facultad = \"    facultad de estudios superiores aragon      \\n\"\n",
        "print(facultad)\n",
        "print(facultad.count(\" \"))#cuenta los espacios que hay\n",
        "print(facultad.find(\"s\"))# te imprime la posicion de letra de la primera coincidencia \n",
        "print(facultad.strip())#remueve los espacios en blanco del inicio y final \n",
        "print(f\"El tamaño de la cadena es de {len(facultad)} caracteres\")\n",
        "print(facultad)\n",
        "print(facultad.strip().split(\" \"))\n",
        "\n",
        "print(\"-----------------------------------------------------------------\")\n",
        "#copiar cadenas\n",
        "otra_cadena = facultad\n",
        "print(otra_cadena)\n",
        "facultad = \"FES Aragón\"\n",
        "\n",
        "#copiar listas\n",
        "colores = ['rojo','verde']\n",
        "otra = colores.copy()\n",
        "print(colores)\n",
        "print(otra)\n",
        "otra.append('rosa')\n",
        "print(colores)\n",
        "print(otra)"
      ],
      "execution_count": 61,
      "outputs": [
        {
          "output_type": "stream",
          "text": [
            "    facultad de estudios superiores aragon      \n",
            "\n",
            "14\n",
            "17\n",
            "facultad de estudios superiores aragon\n",
            "El tamaño de la cadena es de 49 caracteres\n",
            "    facultad de estudios superiores aragon      \n",
            "\n",
            "['facultad', 'de', 'estudios', 'superiores', 'aragon']\n",
            "-----------------------------------------------------------------\n",
            "    facultad de estudios superiores aragon      \n",
            "\n",
            "['rojo', 'verde']\n",
            "['rojo', 'verde']\n",
            "['rojo', 'verde']\n",
            "['rojo', 'verde', 'rosa']\n"
          ],
          "name": "stdout"
        }
      ]
    }
  ]
}