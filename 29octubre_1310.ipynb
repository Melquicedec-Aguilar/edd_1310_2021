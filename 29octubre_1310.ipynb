{
  "nbformat": 4,
  "nbformat_minor": 0,
  "metadata": {
    "colab": {
      "name": "29octubre_1310.ipynb",
      "provenance": [],
      "authorship_tag": "ABX9TyPEhEH4/LckOZO51mFoYa8d",
      "include_colab_link": true
    },
    "kernelspec": {
      "name": "python3",
      "display_name": "Python 3"
    }
  },
  "cells": [
    {
      "cell_type": "markdown",
      "metadata": {
        "id": "view-in-github",
        "colab_type": "text"
      },
      "source": [
        "<a href=\"https://colab.research.google.com/github/Melquicedec-Aguilar/edd_1310_2021/blob/master/29octubre_1310.ipynb\" target=\"_parent\"><img src=\"https://colab.research.google.com/assets/colab-badge.svg\" alt=\"Open In Colab\"/></a>"
      ]
    },
    {
      "cell_type": "code",
      "metadata": {
        "id": "sL3cvsqOyy9v",
        "outputId": "fd383d69-3b4c-4f81-8e5a-c2a097e5f4b8",
        "colab": {
          "base_uri": "https://localhost:8080/"
        }
      },
      "source": [
        "class Array:\n",
        "    def __init__(self , tam):\n",
        "        self.__info = [0 for x in range(tam)]\n",
        "\n",
        "    def get_item(self, posicion):\n",
        "        dato = -1\n",
        "        try:\n",
        "            dato = self.__info[ posicion ]\n",
        "        except Exception as e:\n",
        "            print(\"Error de posicion\")\n",
        "            dato = \"ERROR\"\n",
        "        return dato\n",
        "\n",
        "    def set_item(self, dato , posicion):\n",
        "        try:\n",
        "            self.__info[posicion] = dato\n",
        "        except Exception as e:\n",
        "            print(\"Error de posicion\")\n",
        "\n",
        "    def get_length(self):\n",
        "        return len(self.__info)\n",
        "\n",
        "    def clear(self, dato):\n",
        "        self.__info = [dato for x in range(len(self.__info))]\n",
        "\n",
        "    def __iter__(self):\n",
        "        return _IteradorArreglo(self.__info)\n",
        "\n",
        "class _IteradorArreglo:\n",
        "    def __init__(self, arr):\n",
        "        self.__arr = arr\n",
        "        self.__indice = 0\n",
        "\n",
        "    def __iter__(self):\n",
        "        return self\n",
        "\n",
        "    def __next__(self):\n",
        "        if self.__indice < len(self.__arr):\n",
        "            dato = self.__arr[self.__indice]\n",
        "            self.__indice += 1\n",
        "            return dato\n",
        "        else:\n",
        "            raise StopIteration\n",
        "\n",
        "algo = Array(10)\n",
        "print(algo.get_item(6363))\n",
        "algo.set_item(555,3)\n",
        "print(algo.get_item(3))\n",
        "print(f\"El arreglo tiene {algo.get_length()} elementos\")\n",
        "algo.clear(777)\n",
        "print(algo.get_item(8))\n",
        "print(\"-------------------------------------------------------------------------\")\n",
        "for x in algo:\n",
        "    print(x)\n",
        "print(\"------------PRUEBA DE ITERADOR----------------\")\n",
        "for x in range(algo.get_length()):\n",
        "    print(f\"{x} --> {algo.get_item(x)}\")"
      ],
      "execution_count": 1,
      "outputs": [
        {
          "output_type": "stream",
          "text": [
            "Error de posicion\n",
            "ERROR\n",
            "555\n",
            "El arreglo tiene 10 elementos\n",
            "777\n",
            "-------------------------------------------------------------------------\n",
            "777\n",
            "777\n",
            "777\n",
            "777\n",
            "777\n",
            "777\n",
            "777\n",
            "777\n",
            "777\n",
            "777\n",
            "------------PRUEBA DE ITERADOR----------------\n",
            "0 --> 777\n",
            "1 --> 777\n",
            "2 --> 777\n",
            "3 --> 777\n",
            "4 --> 777\n",
            "5 --> 777\n",
            "6 --> 777\n",
            "7 --> 777\n",
            "8 --> 777\n",
            "9 --> 777\n"
          ],
          "name": "stdout"
        }
      ]
    }
  ]
}