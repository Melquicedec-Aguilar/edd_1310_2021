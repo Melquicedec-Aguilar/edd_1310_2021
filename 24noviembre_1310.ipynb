{
  "nbformat": 4,
  "nbformat_minor": 0,
  "metadata": {
    "colab": {
      "name": "24noviembre_1310.ipynb",
      "provenance": [],
      "authorship_tag": "ABX9TyOY9tMGxZVR6tdj7KdgeK5h",
      "include_colab_link": true
    },
    "kernelspec": {
      "name": "python3",
      "display_name": "Python 3"
    }
  },
  "cells": [
    {
      "cell_type": "markdown",
      "metadata": {
        "id": "view-in-github",
        "colab_type": "text"
      },
      "source": [
        "<a href=\"https://colab.research.google.com/github/Melquicedec-Aguilar/edd_1310_2021/blob/master/24noviembre_1310.ipynb\" target=\"_parent\"><img src=\"https://colab.research.google.com/assets/colab-badge.svg\" alt=\"Open In Colab\"/></a>"
      ]
    },
    {
      "cell_type": "code",
      "metadata": {
        "id": "t6V5Dj1vkjD4"
      },
      "source": [
        "class NodoDoble:\n",
        "    def __init__(self, value, anterior= None, siguiente= None):\n",
        "        self.data = value\n",
        "        self.next = siguiente\n",
        "        self.prev = anterior\n",
        "\n",
        "class DoubleLinkedList:\n",
        "    def __init__(self):\n",
        "        self.__head = None\n",
        "        self.__tail = None\n",
        "        self.__size = 0\n",
        "\n",
        "    def get_size(self):\n",
        "        return self.__size\n",
        "\n",
        "    def is_empty(self):\n",
        "        return self.__size == 0\n",
        "\n",
        "    def append(self, value):\n",
        "        if self.is_empty():\n",
        "            nuevo = NodoDoble(value)\n",
        "            self.__head = nuevo\n",
        "            self.__tail = nuevo\n",
        "\n",
        "        else:\n",
        "            nuevo = NodoDoble(value, self.__tail, None)\n",
        "            self.__tail.next = nuevo\n",
        "            self.__tail = nuevo\n",
        "\n",
        "        self.__size += 1\n",
        "\n",
        "    def tranversal(self):\n",
        "        curr_node = self.__head\n",
        "        while curr_node != None:\n",
        "            print(f\"<-- {curr_node.data} -->\" , end=\"\")\n",
        "            curr_node = curr_node.next\n",
        "        print('')\n",
        "\n",
        "\n",
        "    def reverse_tranversal(self):\n",
        "        curr_node = self.__tail\n",
        "        while curr_node != None:\n",
        "            print(f\"<-- {curr_node.data} -->\" , end=\"\")\n",
        "            curr_node = curr_node.prev\n",
        "        print('')\n",
        "\n",
        "    def remove_from_head(self, value):\n",
        "        #if self.__head.data == value:\n",
        "\n",
        "        curr_node = self.__head\n",
        "        while curr_node.data != value and curr_node != None:\n",
        "            curr_node = curr_node.next\n",
        "\n",
        "        if curr_node.data == value:\n",
        "            curr_node.prev.next = curr_node.next\n",
        "            curr_node.next.prev = curr_node.prev\n",
        "        curr_node.next = None\n",
        "        curr_node.prev = None\n",
        "        self.__size -= 1\n"
      ],
      "execution_count": 1,
      "outputs": []
    },
    {
      "cell_type": "code",
      "metadata": {
        "colab": {
          "base_uri": "https://localhost:8080/"
        },
        "id": "KGO6Aj7wk4WT",
        "outputId": "8b687c49-4eba-4f91-cfe4-808f2aabed18"
      },
      "source": [
        "ld = DoubleLinkedList()\n",
        "print(f\"Esta vacia?: {ld.is_empty()}\")\n",
        "ld.append(10)\n",
        "ld.append(20)\n",
        "ld.append(30)\n",
        "print(f\"La lista tiene: {ld.get_size()} elementos\")\n",
        "ld.tranversal()\n",
        "ld.reverse_tranversal()\n",
        "ld.remove_from_head(20)\n",
        "ld.tranversal()"
      ],
      "execution_count": 2,
      "outputs": [
        {
          "output_type": "stream",
          "text": [
            "Esta vacia?: True\n",
            "La lista tiene: 3 elementos\n",
            "<-- 10 --><-- 20 --><-- 30 -->\n",
            "<-- 30 --><-- 20 --><-- 10 -->\n",
            "<-- 10 --><-- 30 -->\n"
          ],
          "name": "stdout"
        }
      ]
    }
  ]
}