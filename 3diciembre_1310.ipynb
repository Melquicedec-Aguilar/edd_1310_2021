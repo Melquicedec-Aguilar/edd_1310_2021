{
  "nbformat": 4,
  "nbformat_minor": 0,
  "metadata": {
    "colab": {
      "name": "3diciembre_1310.ipynb",
      "provenance": [],
      "authorship_tag": "ABX9TyPMnPCkHI7Loty8frmLmTUd",
      "include_colab_link": true
    },
    "kernelspec": {
      "name": "python3",
      "display_name": "Python 3"
    }
  },
  "cells": [
    {
      "cell_type": "markdown",
      "metadata": {
        "id": "view-in-github",
        "colab_type": "text"
      },
      "source": [
        "<a href=\"https://colab.research.google.com/github/Melquicedec-Aguilar/edd_1310_2021/blob/master/3diciembre_1310.ipynb\" target=\"_parent\"><img src=\"https://colab.research.google.com/assets/colab-badge.svg\" alt=\"Open In Colab\"/></a>"
      ]
    },
    {
      "cell_type": "code",
      "metadata": {
        "id": "cIsQLrLv9CgD"
      },
      "source": [
        "class Array2D:\n",
        "\n",
        "    def __init__(self,rows, cols, value):\n",
        "        self.__cols = cols\n",
        "        self.__rows = rows\n",
        "        self.__array=[[value for x in range(self.__cols)] for y in range(self.__rows)]\n",
        "\n",
        "    def to_string(self):\n",
        "        [print(\"---\",end=\"\") for x in range(self.__cols)]\n",
        "        print(\"\")\n",
        "        for ren in self.__array:\n",
        "            print(ren)\n",
        "        [print(\"---\",end=\"\") for x in range(self.__cols)]\n",
        "        print(\"\")\n",
        "\n",
        "    def get_num_rows(self):\n",
        "        return self.__rows\n",
        "\n",
        "    def get_num_cols(self):\n",
        "        return self.__cols\n",
        "\n",
        "    def get_item(self,row,col):\n",
        "        return self.__array[row][col]\n",
        "\n",
        "    def set_item( self , row , col , valor ):\n",
        "        self.__array[row][col]=valor\n",
        "\n",
        "    def clearing(self, valor=0):\n",
        "        for ren in range(self.__rows):\n",
        "            for col in range(self.__cols):\n",
        "                self.__array[ren][col]=valor\n"
      ],
      "execution_count": 1,
      "outputs": []
    },
    {
      "cell_type": "code",
      "metadata": {
        "id": "VLPhWU9v9N2Z"
      },
      "source": [
        "class Stack:\n",
        "    def __init__(self):\n",
        "        self.__data = list()\n",
        "\n",
        "    def is_empty(self):\n",
        "        return len(self.__data) == 0\n",
        "\n",
        "    def lenght(self):\n",
        "        return len(self.__data)\n",
        "\n",
        "    def pop(self):\n",
        "        if self.is_empty():\n",
        "            print('Pila vacía')\n",
        "\n",
        "        else:\n",
        "            return self.__data.pop()\n",
        "\n",
        "    def push(self, value):\n",
        "        self.__data.append(value)\n",
        "\n",
        "    def peek(self):\n",
        "        return self.__data[len(self.__data)-1]\n",
        "\n",
        "    def to_string(self):\n",
        "        print('-------')\n",
        "        for item in self.__data[::-1]:\n",
        "            print(f'|  {item}  |')\n",
        "            print('-------')\n",
        "        print('\\n')\n"
      ],
      "execution_count": 5,
      "outputs": []
    },
    {
      "cell_type": "code",
      "metadata": {
        "id": "ffO3HJmC9ZEp"
      },
      "source": [
        "class LaberintoADT:\n",
        "    \"\"\"\n",
        "    0 pasillo, 1 pared, S salida y E entrada\n",
        "    pasillo es una tupla ( (2,1), (2,2), (2,3), (2,4), (3,2), (4,2))\n",
        "    entrada en una tupla (5,2)\n",
        "    salida (2,5)\n",
        "    \"\"\"\n",
        "    def __init__(self, rens, cols, pasillos, entrada, salida ):\n",
        "        self.__laberinto = Array2D(rens, cols, '1')\n",
        "        for pasillo in pasillos:\n",
        "            self.__laberinto.set_item(pasillo[0], pasillo[1], '0')\n",
        "        self.set_entrada(entrada[0], entrada[1])\n",
        "        self.set_salida(salida[0], salida[1])\n",
        "        self.__camino = Stack()\n",
        "        self.__previa = None\n",
        "\n",
        "    def to_string(self):\n",
        "        self.__laberinto.to_string()\n",
        "\n",
        "    \"\"\"\n",
        "    Establece la entrada poniendo una 'E' en la matriz, verificar límites\n",
        "    \"\"\"\n",
        "    def set_entrada(self, ren, col):\n",
        "        #Terminar la validación de las coordenadas\n",
        "\n",
        "        self.__laberinto.set_item(ren, col, 'E')\n",
        "\n",
        "    \"\"\"\n",
        "    Establece la salida dentro de los límites periféricos de la matriz\n",
        "    \"\"\"\n",
        "    def set_salida(self, ren, col):\n",
        "        #Terminar las validaciones\n",
        "\n",
        "        self.__laberinto.set_item(ren, col, 'S')\n",
        "\n",
        "    def es_salida(self, ren, col):\n",
        "        return self.__laberinto.get_item(ren, col) == 'S'\n",
        "\n",
        "    def buscar_entrada(self):\n",
        "        encontrado = False\n",
        "        for renglon in range(self.__laberinto.get_num_rows()):\n",
        "            for columna in range(self.__labertin.get_num_cols()):\n",
        "                if sel.__laberinto.get_item(renglon, columna) == 'E':\n",
        "                    self.__camino.push(tuple(renglon, columna))\n",
        "                else:\n",
        "                    encontrado = True\n",
        "        return encontrado\n",
        "\n",
        "    def set_previa(self, pos_previa):\n",
        "        self.__previa = pos_previa\n",
        "\n",
        "    def get_previa(self):\n",
        "        return self.__previa\n",
        "\n",
        "    def resolver_laberinto(self):\n",
        "        #Aplicar reglas\n"
      ],
      "execution_count": null,
      "outputs": []
    },
    {
      "cell_type": "code",
      "metadata": {
        "id": "V76fz4Oj95t1"
      },
      "source": [
        "pasillos_inicial = ( (2,1), (2,2), (2,3), (2,4), (3,2), (4,2))\n",
        "lab = LaberintoADT( 6, 6, pasillos_inicial, (5,2), (2,5))\n",
        "lab.to_string()\n"
      ],
      "execution_count": null,
      "outputs": []
    }
  ]
}