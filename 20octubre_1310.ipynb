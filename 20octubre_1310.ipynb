{
  "nbformat": 4,
  "nbformat_minor": 0,
  "metadata": {
    "colab": {
      "name": "20octubre_1310.ipynb",
      "provenance": [],
      "authorship_tag": "ABX9TyMFl9yzjc7hqVAr8aotYf39",
      "include_colab_link": true
    },
    "kernelspec": {
      "name": "python3",
      "display_name": "Python 3"
    }
  },
  "cells": [
    {
      "cell_type": "markdown",
      "metadata": {
        "id": "view-in-github",
        "colab_type": "text"
      },
      "source": [
        "<a href=\"https://colab.research.google.com/github/Melquicedec-Aguilar/edd_1310_2021/blob/master/20octubre_1310.ipynb\" target=\"_parent\"><img src=\"https://colab.research.google.com/assets/colab-badge.svg\" alt=\"Open In Colab\"/></a>"
      ]
    },
    {
      "cell_type": "code",
      "metadata": {
        "id": "WkzgY5Oqy3Zb"
      },
      "source": [
        "#Código para la tarea 2\n",
        "archivo = open('numeros.txt','rt')\n",
        "for linea in archivo.readlines():\n",
        "  for trunc in linea.split(','):\n",
        "    "
      ],
      "execution_count": null,
      "outputs": []
    },
    {
      "cell_type": "markdown",
      "metadata": {
        "id": "FS1rz6by2n_5"
      },
      "source": [
        "# sintaxis del for en Python\n",
        "\n",
        "2 versiones de for\n",
        "  1. range\n",
        "  2. in iterator "
      ]
    },
    {
      "cell_type": "code",
      "metadata": {
        "id": "xxpd_NMm21CB"
      },
      "source": [
        "r = range(0,10,2)\n",
        "for x in r:\n",
        "  print(x)\n",
        "\n",
        "colores = ['rojo', 'rosa', 'azul', 'fucsia']\n",
        "\n",
        "for indice in range(0,len(colores),1): # for(indice = 0; indice <4;indice++)\n",
        "  print(colores[indice])\n",
        "  colores[indice] = colores[indice].upper()\n",
        "\n",
        "print('---------------------------------------------')\n",
        "# for sobre un iterador \n",
        "\n",
        "for color in colores:\n",
        "  print(color)\n"
      ],
      "execution_count": null,
      "outputs": []
    },
    {
      "cell_type": "markdown",
      "metadata": {
        "id": "ffijtLVJ7_6d"
      },
      "source": [
        "# generadores\n",
        "\n",
        "[ valor for x in range(10) ]\n",
        "\n",
        "  [ [0,0,0],\n",
        "    [0,0,0],\n",
        "    [0,0,0] ] \n",
        "\n",
        "3 * 3"
      ]
    },
    {
      "cell_type": "code",
      "metadata": {
        "id": "XvEv-eeO8ZAr",
        "outputId": "4dead394-8f93-4c2e-9f43-fae549992c39",
        "colab": {
          "base_uri": "https://localhost:8080/",
          "height": 34
        }
      },
      "source": [
        "lista = [ [0,0,0] for x in range(3) ]\n",
        "print(lista)"
      ],
      "execution_count": 27,
      "outputs": [
        {
          "output_type": "stream",
          "text": [
            "[[0, 0, 0], [0, 0, 0], [0, 0, 0]]\n"
          ],
          "name": "stdout"
        }
      ]
    },
    {
      "cell_type": "code",
      "metadata": {
        "id": "jiJ5ZQHd91Jr"
      },
      "source": [
        "ren = 3\n",
        "col = 3\n",
        "lista1 = [[0 for i in range(3)] for j in range(3)]\n",
        "print(lista1)"
      ],
      "execution_count": null,
      "outputs": []
    },
    {
      "cell_type": "markdown",
      "metadata": {
        "id": "Wr3xCRQL_FnR"
      },
      "source": [
        "# POO en Python\n",
        "- clase\n",
        "- creacion de objetos\n",
        "- constructor\n",
        "- encapsulamiento\n",
        "- metodos\n",
        "- atributos\n",
        "- herencia/polimorfismo"
      ]
    },
    {
      "cell_type": "code",
      "metadata": {
        "id": "2Kg_cqA5_iHv",
        "outputId": "18763ee8-743a-4373-c6f4-86c822026883",
        "colab": {
          "base_uri": "https://localhost:8080/",
          "height": 51
        }
      },
      "source": [
        "class Computadora:\n",
        "  def __init__ (self, m , p):\n",
        "    print(\"creando el objeto\")\n",
        "    self.__marca = m\n",
        "    self.__procesador = p\n",
        "  \n",
        "  def to_string(self):\n",
        "    return \"Marca:\"+self.__marca+\" Procesador:\"+self.__procesador\n",
        "\n",
        "mi_pc = Computadora(\"Toshiba\",\"Intel i7\")\n",
        "mi_pc.__marca = \"HP\"\n",
        "print(mi_pc.to_string())\n"
      ],
      "execution_count": 38,
      "outputs": [
        {
          "output_type": "stream",
          "text": [
            "creando el objeto\n",
            "Marca:Toshiba Procesador:Intel i7\n"
          ],
          "name": "stdout"
        }
      ]
    }
  ]
}