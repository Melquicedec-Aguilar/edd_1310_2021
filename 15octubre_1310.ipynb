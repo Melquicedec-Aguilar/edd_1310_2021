{
  "nbformat": 4,
  "nbformat_minor": 0,
  "metadata": {
    "colab": {
      "name": "15octubre_1310.ipynb",
      "provenance": [],
      "authorship_tag": "ABX9TyNUNLsFZSBO1WwJxl4iJCky",
      "include_colab_link": true
    },
    "kernelspec": {
      "name": "python3",
      "display_name": "Python 3"
    }
  },
  "cells": [
    {
      "cell_type": "markdown",
      "metadata": {
        "id": "view-in-github",
        "colab_type": "text"
      },
      "source": [
        "<a href=\"https://colab.research.google.com/github/Melquicedec-Aguilar/edd_1310_2021/blob/master/15octubre_1310.ipynb\" target=\"_parent\"><img src=\"https://colab.research.google.com/assets/colab-badge.svg\" alt=\"Open In Colab\"/></a>"
      ]
    },
    {
      "cell_type": "code",
      "metadata": {
        "id": "i2o_nmzRBPyy"
      },
      "source": [
        ""
      ],
      "execution_count": null,
      "outputs": []
    },
    {
      "cell_type": "markdown",
      "metadata": {
        "id": "HiY_8UIcBxdx"
      },
      "source": [
        "# Módulos\n",
        "- Son recursos reutilizables que contienen varias funciones que pueden ser importadas a tu codigo"
      ]
    },
    {
      "cell_type": "code",
      "metadata": {
        "id": "ZSIDb61RCETk"
      },
      "source": [
        "\"\"\"\n",
        "import mi_modulo\n",
        "\n",
        "x = mi_modulo.suma(4 , 7)\n",
        "\n",
        "print(x)\n",
        "\n",
        "print(mi_modulo.multiplicar(3,5))\n",
        "\"\"\"\n"
      ],
      "execution_count": null,
      "outputs": []
    },
    {
      "cell_type": "code",
      "metadata": {
        "id": "aiApO654KT4Q"
      },
      "source": [
        "from mi_modulo import suma, dividir\n",
        "\n",
        "print(suma(4,7))\n",
        "print(dividir(14 , 7))"
      ],
      "execution_count": null,
      "outputs": []
    },
    {
      "cell_type": "code",
      "metadata": {
        "id": "VzMoS98TLPHf"
      },
      "source": [
        "import mi_modulo as patito\n",
        "\n",
        "print(patito.suma( 4 , 6))"
      ],
      "execution_count": null,
      "outputs": []
    },
    {
      "cell_type": "code",
      "metadata": {
        "id": "Jl18kaSzOCm7",
        "outputId": "c8428046-543d-4900-9797-b28a5b00257c",
        "colab": {
          "base_uri": "https://localhost:8080/",
          "height": 52
        }
      },
      "source": [
        "from joke_generator import generate\n",
        "\n",
        "generate()"
      ],
      "execution_count": 26,
      "outputs": [
        {
          "output_type": "execute_result",
          "data": {
            "application/vnd.google.colaboratory.intrinsic+json": {
              "type": "string"
            },
            "text/plain": [
              "'I went to the doctor today and he told me I had type A blood but it was a type O.'"
            ]
          },
          "metadata": {
            "tags": []
          },
          "execution_count": 26
        }
      ]
    },
    {
      "cell_type": "markdown",
      "metadata": {
        "id": "wwfHwdaOSRUe"
      },
      "source": [
        "# Archivos\n",
        "\n",
        "-open( str , str)\n",
        "  1. Nombre o ruta del archivo\n",
        "  2. Dos caracteres\n",
        "    - modo de apertura del archivo( r , w, a append si y solo si el archivo existe, x append si y solo si el archivo no existe)\n",
        "    - formato del archivo( texto o binario)\n"
      ]
    },
    {
      "cell_type": "code",
      "metadata": {
        "id": "4gKlOukRS5qb"
      },
      "source": [
        "archivo = open('Saludo.txt', 'wt')\n",
        "archivo.write(\"Hola mundo \\n Ola ke aze\")\n",
        "archivo.close() "
      ],
      "execution_count": 28,
      "outputs": []
    },
    {
      "cell_type": "code",
      "metadata": {
        "id": "xsGlyD2QUYLV"
      },
      "source": [
        "otro = open('./sample_data/anscombe.json', 'rt')\n",
        "datos = otro.read()\n",
        "print(datos)\n",
        "otro.close()\n"
      ],
      "execution_count": null,
      "outputs": []
    },
    {
      "cell_type": "code",
      "metadata": {
        "id": "G1LTmPjgWW28",
        "outputId": "549da3ae-253d-4d36-80f5-a1623094366f",
        "colab": {
          "base_uri": "https://localhost:8080/",
          "height": 153
        }
      },
      "source": [
        "arch = open('frutas.txt', 'rt')\n",
        "#print(arch.readline())\n",
        "#print(arch.readline())\n",
        "#print(arch.readline())\n",
        "#print(arch.readline())\n",
        "data = 'm'\n",
        "while (data != ''):\n",
        "  data = arch.readline()\n",
        "  print(data)\n",
        "\n",
        "arch.close()\n",
        "\n",
        "arch = open('frutas.txt', 'rt')\n",
        "list_frutas = arch.readlines()\n",
        "print(list_frutas)\n",
        "arch.close()"
      ],
      "execution_count": 42,
      "outputs": [
        {
          "output_type": "stream",
          "text": [
            "manzana,pera , kiwi  , aguacate\n",
            "\n",
            "limon , naranja\n",
            "\n",
            "sandia , papaya\n",
            "\n",
            "\n",
            "['manzana,pera , kiwi  , aguacate\\n', 'limon , naranja\\n', 'sandia , papaya\\n']\n"
          ],
          "name": "stdout"
        }
      ]
    },
    {
      "cell_type": "code",
      "metadata": {
        "id": "VZ7dojPDY_jY"
      },
      "source": [
        ""
      ],
      "execution_count": null,
      "outputs": []
    }
  ]
}