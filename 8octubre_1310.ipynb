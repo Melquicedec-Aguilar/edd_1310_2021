{
  "nbformat": 4,
  "nbformat_minor": 0,
  "metadata": {
    "colab": {
      "name": "8octubre_1310.ipynb",
      "provenance": [],
      "authorship_tag": "ABX9TyO4dNE0enA/Vo4ai0AqHHS/",
      "include_colab_link": true
    },
    "kernelspec": {
      "name": "python3",
      "display_name": "Python 3"
    }
  },
  "cells": [
    {
      "cell_type": "markdown",
      "metadata": {
        "id": "view-in-github",
        "colab_type": "text"
      },
      "source": [
        "<a href=\"https://colab.research.google.com/github/Melquicedec-Aguilar/edd_1310_2021/blob/master/8octubre_1310.ipynb\" target=\"_parent\"><img src=\"https://colab.research.google.com/assets/colab-badge.svg\" alt=\"Open In Colab\"/></a>"
      ]
    },
    {
      "cell_type": "code",
      "metadata": {
        "id": "h3WGXkCD--rK"
      },
      "source": [
        "# listas multi dimensión \n",
        "\n",
        "monitores =[[\"Samsung\",\"17.3 \\\"\",1024],[\"BenQ\",\"40\\\"\",2048]]\n",
        "procesadores = [[\"Intel\",\"i7\",3.4],[\"AMD\",\"razzer\",3.3],[\"Intel\",\"i3\",3.1]]\n",
        "memorias = [[\"Kingston\", \"8GB\",\"DDR4\"],[\"Kingston\", \"16GB\",\"DDR3\"],[\"ADATA\", \"32GB\",\"DDR4\"]]\n",
        "\n",
        "componentes = [monitores,procesadores,memorias]\n",
        "\n",
        "print(componentes)\n",
        "print(componentes[1])\n",
        "print(componentes[2][1][1])\n",
        "print(int(componentes[0][1][2])*2)\n",
        "print(componentes[1][1][1][1:4])\n",
        "\n",
        "#adata en minúsculas\n",
        "minuscula = componentes[2][2][0].lower()\n",
        "print(minuscula)\n",
        "\n",
        "componentes[2].append([\"Patito\", \"32GB\", \"DDR4\"])\n",
        "print(componentes[2])"
      ],
      "execution_count": null,
      "outputs": []
    },
    {
      "cell_type": "code",
      "metadata": {
        "id": "Va7hx4S6H2U-"
      },
      "source": [
        "# extender listas (se crea una solamente una sola lista)\n",
        "\n",
        "frutas = [\"manzana\", \"pera\"]\n",
        "otras_frutas = [\"aguacate\", \"sandia\"]\n",
        "\n",
        "# + sobre listas, no modifica ninguna de las listas\n",
        "frutas = frutas + otras_frutas\n",
        "print(frutas)\n",
        "print(\"**************************************************************\")\n",
        "\n",
        "# función extend()\n",
        "frutas.extend(otras_frutas)\n",
        "print(frutas)\n",
        "\n",
        "# con la función append se agrega la lista dentro de otra lista\n",
        "frutas.append(otras_frutas)\n",
        "print(frutas)"
      ],
      "execution_count": null,
      "outputs": []
    },
    {
      "cell_type": "code",
      "metadata": {
        "id": "HfNaR-agLEch"
      },
      "source": [
        "# copiar listas\n",
        "\n",
        "#con esta copia accedes a la misma localidad de memoria haciendo que ambos sean iguales\n",
        "colores = [\"azul\",\"rojo\",\"verde\",\"violeta\"]\n",
        "otros_colores = colores\n",
        "print(colores)\n",
        "print(otros_colores)\n",
        "otros_colores.append(\"Rosa\")\n",
        "print(colores)\n",
        "print(otros_colores)\n",
        "\n",
        "#se hace una copia independiente de cada lista\n",
        "una_mas = colores.copy()\n",
        "print(una_mas)\n",
        "una_mas.append(\"gris\")\n",
        "print(una_mas)\n",
        "print(colores)"
      ],
      "execution_count": null,
      "outputs": []
    },
    {
      "cell_type": "code",
      "metadata": {
        "id": "jFEqC3HNO0vw"
      },
      "source": [
        "# unpaking de listas\n",
        "\n",
        "alumno = [\"Jesus\", \"Perez\", \"Herrera\", 22, \"ICO\",10.0]\n",
        "#nombre = alumno[0]\n",
        "#paterno = alumno[1]\n",
        "\n",
        "nombre, paterno, materno, edad, carrera, promedio = alumno\n",
        "print(f\"Alumno:{nombre} carrera:{carrera} promedio:{promedio}\")"
      ],
      "execution_count": null,
      "outputs": []
    },
    {
      "cell_type": "markdown",
      "metadata": {
        "id": "g4wry3L0R4ln"
      },
      "source": [
        "# tuplas\n",
        "- se declaran con ( )\n",
        "- selector con [ ] \n",
        "- No son mutables"
      ]
    },
    {
      "cell_type": "code",
      "metadata": {
        "id": "iT1Zw-p-R3PZ",
        "outputId": "fbd5a51a-6655-4d0e-eb95-9443b55f2b7e",
        "colab": {
          "base_uri": "https://localhost:8080/",
          "height": 68
        }
      },
      "source": [
        "precio = ( 99.9 , 49.9 , 12.45 , 23.3 , 33.44 , 55.66 )\n",
        "print(precio[1])\n",
        "print(precio)\n",
        "print(precio[2:4])\n"
      ],
      "execution_count": 44,
      "outputs": [
        {
          "output_type": "stream",
          "text": [
            "49.9\n",
            "(99.9, 49.9, 12.45, 23.3, 33.44, 55.66)\n",
            "(12.45, 23.3)\n"
          ],
          "name": "stdout"
        }
      ]
    },
    {
      "cell_type": "markdown",
      "metadata": {
        "id": "6qfpaxLeTjip"
      },
      "source": [
        "#Diccionarios\n",
        "- se declaran con { } \n",
        "- son mutables \n",
        "- conjunto de pares llave: valor\n",
        "- equivalente a los objetos JSON de JavaScript\n",
        "- selector [str]"
      ]
    },
    {
      "cell_type": "code",
      "metadata": {
        "id": "pZsb1wA8T5di",
        "outputId": "f4980be5-fa15-4f34-f8f5-740027a6a60b",
        "colab": {
          "base_uri": "https://localhost:8080/",
          "height": 156
        }
      },
      "source": [
        "cliente = {}\n",
        "print(cliente)\n",
        "\n",
        "alumno = {  \"num_cta\"  : 123456589 }\n",
        "print(alumno)\n",
        "\n",
        "alumno = { \n",
        "          \"num_cta\" : 303030303 ,\n",
        "          \"carrera\" : \"ICO\",\n",
        "          \"promedio\" : 9.8,\n",
        "          \"materias\" :[\"EDD\",\"CyP\",\"Calidad\",\"Emprendimiento\"],\n",
        "          \"direccion\" : { \n",
        "                            \"calle\":\"rancho seco\",\n",
        "                            \"numero\" : 23 ,\n",
        "                            \"delegacion\" : \"Neza\",\n",
        "                            \"estado\" : {\n",
        "                                        \"id\" : 15 ,\n",
        "                                        \"nombre\" : \"Estado de Máxico\" ,\n",
        "                                        \"nombre_corto\" : \"EdoMex\"\n",
        "                                        } ,\n",
        "                            \"CP\":57170\n",
        "\n",
        "                        } \n",
        "          }\n",
        "print(alumno)\n",
        "print(alumno['materias'])\n",
        "print(alumno['materias'][2])\n",
        "print(alumno['promedio'])\n",
        "print(alumno['direccion']['estado']['nombre_corto'])"
      ],
      "execution_count": 51,
      "outputs": [
        {
          "output_type": "stream",
          "text": [
            "{}\n",
            "{'num_cta': 123456589}\n",
            "{'num_cta': 303030303, 'carrera': 'ICO', 'promedio': 9.8, 'materias': ['EDD', 'CyP', 'Calidad', 'Emprendimiento'], 'direccion': {'calle': 'rancho seco', 'numero': 23, 'delegacion': 'Neza', 'estado': {'id': 15, 'nombre': 'Estado de Máxico', 'nombre_corto': 'EdoMex'}, 'CP': 57170}}\n",
            "['EDD', 'CyP', 'Calidad', 'Emprendimiento']\n",
            "Calidad\n",
            "9.8\n",
            "EdoMex\n"
          ],
          "name": "stdout"
        }
      ]
    }
  ]
}