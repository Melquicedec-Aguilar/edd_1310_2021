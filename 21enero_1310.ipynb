{
  "nbformat": 4,
  "nbformat_minor": 0,
  "metadata": {
    "colab": {
      "name": "21enero_1310.ipynb",
      "provenance": [],
      "authorship_tag": "ABX9TyPfM1/C9PLpoLtQui8DHDtv",
      "include_colab_link": true
    },
    "kernelspec": {
      "name": "python3",
      "display_name": "Python 3"
    }
  },
  "cells": [
    {
      "cell_type": "markdown",
      "metadata": {
        "id": "view-in-github",
        "colab_type": "text"
      },
      "source": [
        "<a href=\"https://colab.research.google.com/github/Melquicedec-Aguilar/edd_1310_2021/blob/master/21enero_1310.ipynb\" target=\"_parent\"><img src=\"https://colab.research.google.com/assets/colab-badge.svg\" alt=\"Open In Colab\"/></a>"
      ]
    },
    {
      "cell_type": "code",
      "metadata": {
        "id": "5Aq8qcXASUeo"
      },
      "source": [
        "class NodoArbol:\r\n",
        "    def __init__(self, value, left=None, right=None):\r\n",
        "        self.data = value\r\n",
        "        self.left = left\r\n",
        "        self.right = right\r\n",
        "\r\n",
        "class BinarySearchTree:\r\n",
        "    def __init__(self):\r\n",
        "        self.__root = None\r\n",
        "\r\n",
        "    def insert(self, value):\r\n",
        "        #regla 1\r\n",
        "        if self.__root == None: #self.__root is None\r\n",
        "            self.__root = NodoArbol(value, None, None)\r\n",
        "        #regla 2\r\n",
        "        else:\r\n",
        "            self.__insert__(self.__root, value)\r\n",
        "\r\n",
        "    def __insert__(self, nodo, value):\r\n",
        "        if nodo.data == value:\r\n",
        "            print(\"El dato ya existe, no se ingresa nada\")\r\n",
        "\r\n",
        "        elif value < nodo.data:\r\n",
        "            #regla 1\r\n",
        "            if nodo.left == None:\r\n",
        "                nodo.left = NodoArbol(value)\r\n",
        "            #regla 2\r\n",
        "            else:\r\n",
        "                self.__insert__(nodo.left, value)\r\n",
        "        else:\r\n",
        "            if nodo.right == None:\r\n",
        "                nodo.right = NodoArbol(value)\r\n",
        "            else:\r\n",
        "                self.__insert__(nodo.right, value)\r\n",
        "\r\n",
        "    def __recorrido_in(self, nodo):\r\n",
        "        if nodo != None:\r\n",
        "            self.__recorrido_in(nodo.left)\r\n",
        "            print(nodo.data, end=\" , \")\r\n",
        "            self.__recorrido_in(nodo.right)\r\n",
        "\r\n",
        "    def __recorrido_pos(self, nodo):\r\n",
        "        if nodo:\r\n",
        "            self.__recorrido_pos(nodo.left)\r\n",
        "            self.__recorrido_pos(nodo.right)\r\n",
        "            print(nodo.data, end=\" , \")\r\n",
        "\r\n",
        "    def __recorrido_pre(self, nodo):\r\n",
        "        if nodo:\r\n",
        "            print(nodo.data, end=\" , \")\r\n",
        "            self.__recorrido_pre(nodo.left)\r\n",
        "            self.__recorrido_pre(nodo.right)\r\n",
        "\r\n",
        "    def transversal(self, format=\"inorden\"):\r\n",
        "        if format == \"inorden\":\r\n",
        "            print(\"Recorrido in-orden\")\r\n",
        "            self.__recorrido_in(self.__root)\r\n",
        "        elif format == \"preorden\":\r\n",
        "            print(\"Recorrido pre-orden\")\r\n",
        "            self.__recorrido_pre(self.__root)\r\n",
        "        elif format == \"posorden\":\r\n",
        "            print(\"Recorrido pos-orden\")\r\n",
        "            self.__recorrido_pos(self.__root)\r\n",
        "        else:\r\n",
        "            print(\"Error, ese formato no existe\")\r\n",
        "        print(\"\")\r\n",
        "\r\n",
        "    def search(self, value):\r\n",
        "        if self.__root == None:\r\n",
        "            return None\r\n",
        "        else:\r\n",
        "            return self.__search(self.__root, value)\r\n",
        "\r\n",
        "    def __search(self, nodo, value):\r\n",
        "        if nodo == None: #esta vacio?  también es caso base\r\n",
        "            return None\r\n",
        "        elif nodo.data == value:    #caso base de recursividad\r\n",
        "            print(\"Valor Encontrado\")\r\n",
        "            return nodo\r\n",
        "        elif value < nodo.data:\r\n",
        "            print(\"Buscar a la izquierda\")\r\n",
        "            return self.__search(nodo.left, value)\r\n",
        "        else:\r\n",
        "            print(\"Buscar a la derecha\")\r\n",
        "            return self.__search(nodo.right, value)\r\n",
        "\r\n",
        "    def remove(self, value):\r\n",
        "        encontrado = self.search(value)\r\n",
        "        #caso 1\r\n",
        "        if encontrado.left == None and encontrado.right == None:\r\n",
        "            encontrado = None\r\n",
        "        #caso 2\r\n",
        "        elif (encontrado.left != None and encontrado.right == None) or (encontrado.left == None and encontrado.right != None):\r\n",
        "            print(\"A eliminar:\", encontrado.data)\r\n"
      ],
      "execution_count": 1,
      "outputs": []
    },
    {
      "cell_type": "code",
      "metadata": {
        "colab": {
          "base_uri": "https://localhost:8080/"
        },
        "id": "WM9pxNsESiOk",
        "outputId": "f41c6e33-0400-4689-f74e-5234a6770deb"
      },
      "source": [
        "abb = BinarySearchTree()\r\n",
        "\r\n",
        "abb.insert(50)\r\n",
        "abb.insert(30)\r\n",
        "abb.insert(60)\r\n",
        "abb.insert(35)\r\n",
        "abb.insert(89)\r\n",
        "abb.insert(70)\r\n",
        "#abb.insert(25)\r\n",
        "\r\n",
        "abb.transversal()\r\n",
        "abb.transversal(\"preorden\")\r\n",
        "abb.transversal(\"posorden\")\r\n",
        "\r\n",
        "x = abb.search(25)\r\n",
        "print(f\"El resultado es: {x}\")\r\n",
        "\r\n",
        "abb.remove(35)\r\n",
        "abb.transversal()\r\n"
      ],
      "execution_count": 2,
      "outputs": [
        {
          "output_type": "stream",
          "text": [
            "Recorrido in-orden\n",
            "30 , 35 , 50 , 60 , 70 , 89 , \n",
            "Recorrido pre-orden\n",
            "50 , 30 , 35 , 60 , 89 , 70 , \n",
            "Recorrido pos-orden\n",
            "35 , 30 , 70 , 89 , 60 , 50 , \n",
            "Buscar a la izquierda\n",
            "Buscar a la izquierda\n",
            "El resultado es: None\n",
            "Buscar a la izquierda\n",
            "Buscar a la derecha\n",
            "Valor Encontrado\n",
            "Recorrido in-orden\n",
            "30 , 35 , 50 , 60 , 70 , 89 , \n"
          ],
          "name": "stdout"
        }
      ]
    }
  ]
}