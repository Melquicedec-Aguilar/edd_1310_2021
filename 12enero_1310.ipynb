{
  "nbformat": 4,
  "nbformat_minor": 0,
  "metadata": {
    "colab": {
      "name": "12enero_1310.ipynb",
      "provenance": [],
      "authorship_tag": "ABX9TyNooJdo1RDRyaNfNbfTpi8M",
      "include_colab_link": true
    },
    "kernelspec": {
      "name": "python3",
      "display_name": "Python 3"
    }
  },
  "cells": [
    {
      "cell_type": "markdown",
      "metadata": {
        "id": "view-in-github",
        "colab_type": "text"
      },
      "source": [
        "<a href=\"https://colab.research.google.com/github/Melquicedec-Aguilar/edd_1310_2021/blob/master/12enero_1310.ipynb\" target=\"_parent\"><img src=\"https://colab.research.google.com/assets/colab-badge.svg\" alt=\"Open In Colab\"/></a>"
      ]
    },
    {
      "cell_type": "code",
      "metadata": {
        "colab": {
          "base_uri": "https://localhost:8080/"
        },
        "id": "R7B_Tn9h6ClO",
        "outputId": "e1f5d610-0fc2-4104-ff7d-404a65faf2f7"
      },
      "source": [
        "def factorial(n):\r\n",
        "    if n == 0:\r\n",
        "        return 1\r\n",
        "    else:\r\n",
        "        return factorial(n-1) * n\r\n",
        "\r\n",
        "def printRev(n):\r\n",
        "    if n > 0:\r\n",
        "        printRev(n-1)\r\n",
        "        print(n)\r\n",
        "\r\n",
        "def Fibonacci(n):\r\n",
        "    if n == 0 or n == 1:\r\n",
        "        return n\r\n",
        "    if n > 1:\r\n",
        "        return (Fibonacci(n-1) + Fibonacci(n-2))\r\n",
        "\r\n",
        "def main():\r\n",
        "    for num in range(1,11,1):\r\n",
        "        r = factorial(num)\r\n",
        "        print(f\"El factorial de {num} es {r}\")\r\n",
        "\r\n",
        "def main2():\r\n",
        "    printRev(3)\r\n",
        "\r\n",
        "def main3():\r\n",
        "    for numero in range(11):\r\n",
        "        print(str(Fibonacci(numero)) + \",\" , end=\"\")\r\n",
        "\r\n",
        "main()\r\n",
        "main2()\r\n",
        "main3()\r\n",
        "\r\n",
        "def suma_lista_rec(lista):\r\n",
        "    if len(lista) == 1:\r\n",
        "        return lista[0]\r\n",
        "    else:\r\n",
        "        return lista.pop() + suma_lista_rec(lista)\r\n",
        "\r\n",
        "def main4():\r\n",
        "    datos = [4,2,3,5] #=14\r\n",
        "    res = suma_lista_rec(datos)\r\n",
        "    print(res)\r\n",
        "\r\n",
        "#main4()\r\n"
      ],
      "execution_count": 3,
      "outputs": [
        {
          "output_type": "stream",
          "text": [
            "El factorial de 1 es 1\n",
            "El factorial de 2 es 2\n",
            "El factorial de 3 es 6\n",
            "El factorial de 4 es 24\n",
            "El factorial de 5 es 120\n",
            "El factorial de 6 es 720\n",
            "El factorial de 7 es 5040\n",
            "El factorial de 8 es 40320\n",
            "El factorial de 9 es 362880\n",
            "El factorial de 10 es 3628800\n",
            "1\n",
            "2\n",
            "3\n",
            "0,1,1,2,3,5,8,13,21,34,55,"
          ],
          "name": "stdout"
        }
      ]
    }
  ]
}