{
  "nbformat": 4,
  "nbformat_minor": 0,
  "metadata": {
    "colab": {
      "name": "27octubre_1310.ipynb",
      "provenance": [],
      "authorship_tag": "ABX9TyMlYCHI/O1fJo2EZS9/BQR3",
      "include_colab_link": true
    },
    "kernelspec": {
      "name": "python3",
      "display_name": "Python 3"
    }
  },
  "cells": [
    {
      "cell_type": "markdown",
      "metadata": {
        "id": "view-in-github",
        "colab_type": "text"
      },
      "source": [
        "<a href=\"https://colab.research.google.com/github/Melquicedec-Aguilar/edd_1310_2021/blob/master/27octubre_1310.ipynb\" target=\"_parent\"><img src=\"https://colab.research.google.com/assets/colab-badge.svg\" alt=\"Open In Colab\"/></a>"
      ]
    },
    {
      "cell_type": "code",
      "metadata": {
        "id": "5DrGh2dFCTob",
        "outputId": "89b6b026-862d-403c-c813-8b5aec9334ef",
        "colab": {
          "base_uri": "https://localhost:8080/",
          "height": 68
        }
      },
      "source": [
        "class Computadora:\n",
        "    def __init__( self , m , p):\n",
        "        self.__marca = m\n",
        "        self.__procesador = p\n",
        "\n",
        "\n",
        "    def to_string( self ):\n",
        "        return \"MArca:\"+self.__marca+\" Procesador:\"+self.__procesador\n",
        "\n",
        "    def set_marca( self , m ):\n",
        "      self.__marca = m\n",
        "\n",
        "    def get_marca( self ):\n",
        "      return self.__marca\n",
        "\n",
        "    def set_procesador( self , p ):\n",
        "      self.__procesador = p\n",
        "\n",
        "    def get_procesador( self ):\n",
        "      return self.__procesador\n",
        "\n",
        "mi_pc = Computadora(\"Toshiba\",\"Intel i7\")\n",
        "print(mi_pc.to_string())\n",
        "mi_pc.__marca=\"HP \"\n",
        "mi_pc.set_marca(\"HP co.\")\n",
        "print(mi_pc.to_string())\n",
        "#print(mi_pc.__procesador)\n",
        "print(mi_pc.get_procesador())"
      ],
      "execution_count": 5,
      "outputs": [
        {
          "output_type": "stream",
          "text": [
            "MArca:Toshiba Procesador:Intel i7\n",
            "MArca:HP co. Procesador:Intel i7\n",
            "Intel i7\n"
          ],
          "name": "stdout"
        }
      ]
    },
    {
      "cell_type": "markdown",
      "metadata": {
        "id": "sdvEBoVhEIt6"
      },
      "source": [
        "# encapsulamiento python 3\n",
        "## tradicional tipo java \n",
        "  - void setAtributo(val)\n",
        "  - tipo getAtribuyo( )\n",
        "\n",
        "## estilo python 3\n",
        "UTILIZANDO DECORADORES\n",
        "- @property\n",
        "- @atributo.setter"
      ]
    },
    {
      "cell_type": "code",
      "metadata": {
        "id": "4y75sZ1vHzSS"
      },
      "source": [
        "class Computadora:\n",
        "    def __init__( self , m , p):\n",
        "        self.marca = m # se manda a llamar el decorador @property\n",
        "        self.procesador = p \n",
        "    \n",
        "    @property       # se declara como atributo privado y funciona como metodo get\n",
        "    def marca ( self ):\n",
        "      return self.__marca\n",
        "\n",
        "    @marca.setter\n",
        "    def marca( self , m ):\n",
        "      print(\"En el setter de marca \")\n",
        "      self.__marca = m\n",
        "\n",
        "    @property\n",
        "    def procesador( self ):\n",
        "      return self.__procesador\n",
        "\n",
        "    @procesador.setter\n",
        "    def procesador( self , p ):\n",
        "      print(\"En el método set de procesador\")\n",
        "      self.__procesador = p\n",
        "\n",
        "    def to_string( self ):\n",
        "        return \"Marca:\"+self.marca+\" Procesador:\"+self.procesador\n",
        "\n",
        "mi_pc2 = Computadora(\"Mac Book pro\", \"Intel i7\")\n",
        "print(mi_pc2.to_string())\n",
        "mi_pc2.marca = \"Dell\"\n",
        "print(mi_pc2.to_string())"
      ],
      "execution_count": null,
      "outputs": []
    },
    {
      "cell_type": "code",
      "metadata": {
        "id": "l8LxEmTsQhn_",
        "outputId": "481e7d9f-7ed8-4d34-a1b3-6b59ac571e1a",
        "colab": {
          "base_uri": "https://localhost:8080/",
          "height": 85
        }
      },
      "source": [
        "# herencia, se logra pasando la clase base a la declaración\n",
        "\n",
        "class ServidorEmpresarial( Computadora ):\n",
        "  def __init__( self ):\n",
        "    print(\"Hola servidor\")\n",
        "\n",
        "server = ServidorEmpresarial()\n",
        "server.marca = \"Sun Micro Systems\"\n",
        "server.procesador = \"intel i7\"\n",
        "print(server.to_string())"
      ],
      "execution_count": 15,
      "outputs": [
        {
          "output_type": "stream",
          "text": [
            "Hola servidor\n",
            "En el setter de marca \n",
            "En el método set de procesador\n",
            "Marca:Sun Micro Systems Procesador:intel i7\n"
          ],
          "name": "stdout"
        }
      ]
    }
  ]
}