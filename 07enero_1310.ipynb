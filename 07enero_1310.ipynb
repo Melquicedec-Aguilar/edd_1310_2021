{
  "nbformat": 4,
  "nbformat_minor": 0,
  "metadata": {
    "colab": {
      "name": "07enero_1310.ipynb",
      "provenance": [],
      "authorship_tag": "ABX9TyPYv2nPT6ECVAO6lamCBhsp",
      "include_colab_link": true
    },
    "kernelspec": {
      "name": "python3",
      "display_name": "Python 3"
    }
  },
  "cells": [
    {
      "cell_type": "markdown",
      "metadata": {
        "id": "view-in-github",
        "colab_type": "text"
      },
      "source": [
        "<a href=\"https://colab.research.google.com/github/Melquicedec-Aguilar/edd_1310_2021/blob/master/07enero_1310.ipynb\" target=\"_parent\"><img src=\"https://colab.research.google.com/assets/colab-badge.svg\" alt=\"Open In Colab\"/></a>"
      ]
    },
    {
      "cell_type": "code",
      "metadata": {
        "id": "r6ICevsWOLps"
      },
      "source": [
        "class Queue:\r\n",
        "    def __init__(self):\r\n",
        "        self.__data = list()  #también se puede así []\r\n",
        "\r\n",
        "    def is_empty(self):\r\n",
        "        return len(self.__data) == 0\r\n",
        "\r\n",
        "    def length(self):\r\n",
        "        return len(self.__data)\r\n",
        "\r\n",
        "    def enqueue(self, elem):\r\n",
        "        self.__data.append(elem)\r\n",
        "\r\n",
        "    def dequeue(self):\r\n",
        "        if not self.is_empty():\r\n",
        "            return self.__data.pop(0)\r\n",
        "        else:\r\n",
        "            return None\r\n",
        "\r\n",
        "    def to_string(self):\r\n",
        "        cadena = \"\"\r\n",
        "        for elem in self.__data:\r\n",
        "            cadena = cadena + \"| \" + str(elem)\r\n",
        "        cadena = cadena + \"|\"\r\n",
        "        return cadena\r\n",
        "\r\n",
        "\r\n",
        "\r\n",
        "\r\n",
        "class BoundedPriorityQueue:\r\n",
        "    def __init__(self, niveles):\r\n",
        "        self.__data = [ Queue() for x in range (niveles)]\r\n",
        "        self.__size = 0\r\n",
        "\r\n",
        "    def is_empty(self):\r\n",
        "        return self.__size == 0\r\n",
        "\r\n",
        "    def length(self):\r\n",
        "        return self.__size\r\n",
        "\r\n",
        "    def enqueue(self, prioridad, elem):\r\n",
        "        if prioridad < len(self.__data) and prioridad >= 0:\r\n",
        "            self.__data[prioridad].enqueue(elem)\r\n",
        "            self.__size += 1\r\n",
        "\r\n",
        "    def dequeue(self):\r\n",
        "        if not self.is_empty():\r\n",
        "            for nivel in self.__data:\r\n",
        "                if not nivel.is_empty():\r\n",
        "                    self.__size -= 1\r\n",
        "                    return nivel.dequeue()\r\n",
        "\r\n",
        "    def to_string(self):\r\n",
        "        for nivel in range(len(self.__data)):\r\n",
        "            print(f\" Nivel {nivel} --> {self.__data[nivel].to_string()}\")"
      ],
      "execution_count": 1,
      "outputs": []
    },
    {
      "cell_type": "code",
      "metadata": {
        "colab": {
          "base_uri": "https://localhost:8080/"
        },
        "id": "Oyl2craAOiL0",
        "outputId": "802664d6-7d56-4d89-9cb1-d9f073cf73b9"
      },
      "source": [
        "print()\r\n",
        "print(\"------------PRUEBAS DE LAS COLAS CON PRIORIDAD ACOTADA-------------\")\r\n",
        "print()\r\n",
        "\r\n",
        "maestres = {\"prioridad\":4, \"descripcion\":\"Maestre\", \"personas\":[\"Juan p\", \"Diego h\"]}\r\n",
        "niños = {\"prioridad\":2, \"descripcion\":\"Niños\", \"personas\":[\"Santi h\", \"Angel h\"]}\r\n",
        "mecanicos = {\"prioridad\":4, \"descripcion\":\"Mecanicos\", \"personas\":[\"Diana t\", \"Maria z\"]}\r\n",
        "\r\n",
        "cpa = BoundedPriorityQueue(7)\r\n",
        "cpa.enqueue(maestres['prioridad'], maestres)\r\n",
        "cpa.enqueue(niños['prioridad'], niños)\r\n",
        "cpa.enqueue(mecanicos['prioridad'], mecanicos)\r\n",
        "cpa.to_string()\r\n"
      ],
      "execution_count": 2,
      "outputs": [
        {
          "output_type": "stream",
          "text": [
            "\n",
            "------------PRUEBAS DE LAS COLAS CON PRIORIDAD ACOTADA-------------\n",
            "\n",
            " Nivel 0 --> |\n",
            " Nivel 1 --> |\n",
            " Nivel 2 --> | {'prioridad': 2, 'descripcion': 'Niños', 'personas': ['Santi h', 'Angel h']}|\n",
            " Nivel 3 --> |\n",
            " Nivel 4 --> | {'prioridad': 4, 'descripcion': 'Maestre', 'personas': ['Juan p', 'Diego h']}| {'prioridad': 4, 'descripcion': 'Mecanicos', 'personas': ['Diana t', 'Maria z']}|\n",
            " Nivel 5 --> |\n",
            " Nivel 6 --> |\n"
          ],
          "name": "stdout"
        }
      ]
    }
  ]
}