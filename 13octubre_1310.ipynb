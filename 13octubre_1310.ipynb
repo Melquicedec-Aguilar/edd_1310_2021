{
  "nbformat": 4,
  "nbformat_minor": 0,
  "metadata": {
    "colab": {
      "name": "13octubre_1310.ipynb",
      "provenance": [],
      "authorship_tag": "ABX9TyO4pEymMHodTUc+MKagnxxo",
      "include_colab_link": true
    },
    "kernelspec": {
      "name": "python3",
      "display_name": "Python 3"
    }
  },
  "cells": [
    {
      "cell_type": "markdown",
      "metadata": {
        "id": "view-in-github",
        "colab_type": "text"
      },
      "source": [
        "<a href=\"https://colab.research.google.com/github/Melquicedec-Aguilar/edd_1310_2021/blob/master/13octubre_1310.ipynb\" target=\"_parent\"><img src=\"https://colab.research.google.com/assets/colab-badge.svg\" alt=\"Open In Colab\"/></a>"
      ]
    },
    {
      "cell_type": "code",
      "metadata": {
        "id": "M1QoWN8luDGh"
      },
      "source": [
        "alumno = { \n",
        "          \"num_cta\" : 303030303 ,\n",
        "          \"carrera\" : \"ICO\",\n",
        "          \"promedio\" : 9.8,\n",
        "          \"materias\" :[\"EDD\",\"CyP\",\"Calidad\",\"Emprendimiento\"],\n",
        "          \"direccion\" : { \n",
        "                            \"calle\":\"rancho seco\",\n",
        "                            \"numero\" : 23 ,\n",
        "                            \"delegacion\" : \"Neza\",\n",
        "                            \"estado\" : {\n",
        "                                        \"id\" : 15 ,\n",
        "                                        \"nombre\" : \"Estado de Máxico\" ,\n",
        "                                        \"nombre_corto\" : \"EdoMex\"\n",
        "                                        } ,\n",
        "                            \"CP\":57170\n",
        "\n",
        "                        } \n",
        "          }\n",
        "print(alumno)\n",
        "\n",
        "alumno['carrera'] = \"Ingeniería en Computación\"\n",
        "print(alumno)\n",
        "alumno['nombre_completo'] = {'primer':\"Juan\",\n",
        "                             'segundo':\"Pedro\",\n",
        "                             'materno':\"Pérez\",\n",
        "                             'paterno':\"Gómez\"\n",
        "                             }\n",
        "alumno['semestre'] = 3\n",
        "print(alumno)\n",
        "\n",
        "print(f\"{alumno['nombre_completo']['primer']} {alumno['nombre_completo']['segundo']}\")"
      ],
      "execution_count": null,
      "outputs": []
    },
    {
      "cell_type": "code",
      "metadata": {
        "id": "RB0lhnyqx906"
      },
      "source": [
        "# key() , values() e items()\n",
        "\n",
        "llaves = alumno.keys()\n",
        "print(llaves)\n",
        "for llave in llaves:\n",
        "  print(llave.upper())\n",
        "\n",
        "valores = alumno.values()\n",
        "for val in valores:\n",
        "  print(val)\n",
        "\n",
        "pares = alumno.items()\n",
        "print(pares)\n",
        "\n",
        "for elem in pares:\n",
        "  print(f\"el campo {elem[0]} tiene el valor {elem[1]}\")"
      ],
      "execution_count": null,
      "outputs": []
    },
    {
      "cell_type": "code",
      "metadata": {
        "id": "EtuxwA8L08H5"
      },
      "source": [
        "# como concatenar diccionarios método update()\n",
        "\n",
        "computadora = {\"procesador\":\"Intel i7\", \"ram\":\"Kingston 128Gb\"}\n",
        "otros = {\"monitor\":\"LG 49\\\"\", \"hd\":\"Toshiba 1TB\"}\n",
        "\n",
        "computadora.update(otros)\n",
        "print(computadora)"
      ],
      "execution_count": null,
      "outputs": []
    },
    {
      "cell_type": "markdown",
      "metadata": {
        "id": "ulFWuFXr2onP"
      },
      "source": [
        "# funciones (modularidad)\n",
        "- unidades de código reutilizable\n",
        "- es un mecanismo de origanización de código\n",
        "- Una funcion toma de 0 a n parametros de entrada\n",
        "- tiene una sola salida (return) de cualquier tipo de dato\n",
        "- solo puedes hacer dos cosas:\n",
        "  - definirla\n",
        "  - llamarla\n",
        "- se define con la palabra reservada 'def'\n"
      ]
    },
    {
      "cell_type": "code",
      "metadata": {
        "id": "yn5lR3B937gK"
      },
      "source": [
        "def sumar( x , y ):\n",
        "  resultado = x + y\n",
        "  return resultado\n",
        "\n",
        "def saludar( nombre):\n",
        "  print(f\"Hola {nombre}, ¿Cómo estas?\")\n",
        "  return None\n",
        "\n",
        "# procesar None\n",
        "\n",
        "def multiplicar( valor , veces):\n",
        "  if valor != None:\n",
        "    c = valor * veces\n",
        "  else:\n",
        "    c = \"operación no valida\"\n",
        "  return c\n",
        "\n",
        "def operacion( a , b , c ):\n",
        "  resultado = a + (b / c)\n",
        "  return resultado\n",
        "\n",
        "print(sumar(10,15))\n",
        "print(sumar(2,6))\n",
        "c = sumar(3,7)\n",
        "print(c)\n",
        "saludar(\"Melqui\")\n",
        "print(multiplicar(5,6))\n",
        "print(multiplicar(None,6))\n",
        "print(operacion(2,9,3))\n",
        "print(operacion(2,3,9))\n",
        "print(operacion(a=2,c=3,b=9))"
      ],
      "execution_count": null,
      "outputs": []
    },
    {
      "cell_type": "code",
      "metadata": {
        "id": "oHcnfxn9-jKq"
      },
      "source": [
        "# valores por defecto\n",
        "def comanda(primer, fuerte, postre=\"Galleta de animalito\" ):\n",
        "  print(f\"De entrada pidio: {primer}\")\n",
        "  print(f\"De plato fuerte: {fuerte}\")\n",
        "  print(f\"De postre: {postre}\")\n",
        "\n",
        "# argumentos posicionales con tuplas *\n",
        "def comanda_2( *opciones):\n",
        "  print(opciones)\n",
        "  print(f\"De entrada pidio: {opciones[0]}\")\n",
        "  print(f\"De plato fuerte: {opciones[1]}\")\n",
        "  print(f\"De postre: {opciones[2]}\")\n",
        "  print(\"\\nIndicaciones extras\")\n",
        "  for ind in opciones[3::]:\n",
        "    print(f\"\\t {ind}\")\n",
        "\n",
        "\n",
        "comanda(\"sopa aguada\", \"Tortas de papa\", \"Gelatina de limon\")\n",
        "print(\"-------------------------------------------------------\")\n",
        "comanda(\"sopa aguada\", \"Tortas de papa\")\n",
        "print(\"______________________________________________________-\")\n",
        "comanda_2(\"sopa aguada\", \"Tortas de papa\", \"Gelatina de limon\", \"las totas bien doradas\", \"traer dos limones\", \"Agua con hielo\")"
      ],
      "execution_count": null,
      "outputs": []
    },
    {
      "cell_type": "code",
      "metadata": {
        "id": "tOAjgN3CCzrb",
        "outputId": "fef56242-f796-4f94-e95e-ffb6035291ff",
        "colab": {
          "base_uri": "https://localhost:8080/",
          "height": 156
        }
      },
      "source": [
        "# argumentos posicionales con diccionarios **\n",
        "def comanda_3( **opciones ):\n",
        "  print(opciones)\n",
        "  for op in opciones.items():\n",
        "    print(f\"{op[0]} -> {op[1]}\")\n",
        "\n",
        "comanda_3(primer=\"sopa aguada\", fuerte=\"Tortas de papa\", postre=\"Gelatina de limon\", extra1=\"las totas bien doradas\", extra2=\"traer dos limones\", extra3=\"Agua con hielo\")"
      ],
      "execution_count": 38,
      "outputs": [
        {
          "output_type": "stream",
          "text": [
            "{'primer': 'sopa aguada', 'fuerte': 'Tortas de papa', 'postre': 'Gelatina de limon', 'extra1': 'las totas bien doradas', 'extra2': 'traer dos limones', 'extra3': 'Agua con hielo'}\n",
            "primer -> sopa aguada\n",
            "fuerte -> Tortas de papa\n",
            "postre -> Gelatina de limon\n",
            "extra1 -> las totas bien doradas\n",
            "extra2 -> traer dos limones\n",
            "extra3 -> Agua con hielo\n"
          ],
          "name": "stdout"
        }
      ]
    }
  ]
}