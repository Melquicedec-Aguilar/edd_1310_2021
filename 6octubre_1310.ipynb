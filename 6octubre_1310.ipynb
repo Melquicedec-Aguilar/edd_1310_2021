{
  "nbformat": 4,
  "nbformat_minor": 0,
  "metadata": {
    "colab": {
      "name": "6octubre_1310.ipynb",
      "provenance": [],
      "authorship_tag": "ABX9TyN3gIW4LFqeuJgsCKqc0jCu",
      "include_colab_link": true
    },
    "kernelspec": {
      "name": "python3",
      "display_name": "Python 3"
    }
  },
  "cells": [
    {
      "cell_type": "markdown",
      "metadata": {
        "id": "view-in-github",
        "colab_type": "text"
      },
      "source": [
        "<a href=\"https://colab.research.google.com/github/Melquicedec-Aguilar/edd_1310_2021/blob/master/6octubre_1310.ipynb\" target=\"_parent\"><img src=\"https://colab.research.google.com/assets/colab-badge.svg\" alt=\"Open In Colab\"/></a>"
      ]
    },
    {
      "cell_type": "code",
      "metadata": {
        "id": "tQ48Hi2SqPF1"
      },
      "source": [
        "# String continuación\n",
        "\n",
        "numeros_txt = \"    1,2,3, 4   , 5, 35 , 15 ,   12\"\n",
        "print(numeros_txt)\n",
        "\n",
        "numeros_txt = numeros_txt.lstrip().split(',')\n",
        "print(numeros_txt)\n",
        "\n",
        "for j in range(len(numeros_txt)):\n",
        "  numeros_txt[j] = int(numeros_txt[j].strip())\n",
        "\n",
        "print(numeros_txt)\n",
        "\n",
        "# funcion range(inicio, stop, incremento)\n",
        "print(range(1,10,3))\n",
        "rango = range(1,10,2)\n",
        "\n",
        "for x in rango:\n",
        "  print(x)\n",
        "print('-----------------------------------------------------------------')\n",
        "rango = range(10)\n",
        "\n",
        "for x in rango:\n",
        "  print(x)"
      ],
      "execution_count": null,
      "outputs": []
    },
    {
      "cell_type": "markdown",
      "metadata": {
        "id": "aUXU2CUIxGMb"
      },
      "source": [
        "#listas\n",
        "-mutables\n",
        "\n",
        "-declaran con [ ]\n",
        "\n",
        "-selector es con [int]\n",
        "\n",
        "-Pueden ser de cualquier tipo y mezclado\n",
        "\n",
        "#tuplas\n",
        "-no mutables\n",
        "\n",
        "-declaran con ( )\n",
        "\n",
        "-selector es con [int]\n",
        "\n",
        "#diccionarios\n",
        "-son mutables\n",
        "\n",
        "-son conjuntos de pares llave:valor\n",
        "\n",
        "-Equivalentes a los objetos JSON de JavaScritp\n",
        "\n",
        "#conjuntos\n",
        "-representación de la teoría de conjuntos"
      ]
    },
    {
      "cell_type": "code",
      "metadata": {
        "id": "ca6a8Qs1yNZq"
      },
      "source": [
        "# Listas (Equivalentes a arreglos en otros lenguajes de programación)\n",
        "frutas = [\"Pera\",\"Manzana\",\"fresa\",\"Kiwi\",\"Naranja\"]\n",
        "print(frutas)\n",
        "\n",
        "cosas = [\"cuaderno\", 2 , 3.1416 , True , False ,[\"Rojo\" , \"Azul\"] ]\n",
        "print(cosas)\n",
        "frutas[2] = \"Fresa\" # frutas[2] = frutas[2].capitalize()\n",
        "print(frutas)\n",
        "\n",
        "#agregar a una lista\n",
        "frutas.append(\"Aguacate\") # append se agrega al final de la lista\n",
        "print(frutas)\n",
        "frutas.insert(2, \"Sandia\") #En el insert tienes que agregar la posición que vas agregar\n",
        "print(frutas)\n",
        "\n",
        "fecha = [\"06\",\"10\",\"2020\"]\n",
        "print(fecha)\n",
        "fecha_str = \"/\".join(fecha) #El join sirve para concatenar la cadena con algún caracter deseado\n",
        "print(fecha_str)\n",
        "print('--------------------------------------------------------------------')\n",
        "\n",
        "\n"
      ],
      "execution_count": null,
      "outputs": []
    },
    {
      "cell_type": "code",
      "metadata": {
        "id": "cT29j0iT3SaK"
      },
      "source": [
        "#Eliminar elementos\n",
        "cosas = [\"cuaderno\", 2 , 3.1416 , True , False ,[\"Rojo\" , \"Azul\"] ]\n",
        "print(cosas)\n",
        "cosas.append(\"Libro\")\n",
        "cosas.append(\"Lapiz\")\n",
        "print(cosas)\n",
        "algo = cosas.pop() #elimina el último en caso de no poner alguna posición y regresa el elemento\n",
        "print(cosas)\n",
        "print(algo)\n",
        "print(\"-----------------------------------------------------------------------\")\n",
        "algo = cosas.pop(2)\n",
        "print(cosas)\n",
        "print(algo)\n",
        "cosas.remove(2)\n",
        "print(cosas)\n",
        "\n",
        "# vaciar una lista\n",
        "print(\"***********************************************************************\")\n",
        "cosas.clear()\n",
        "print(cosas)\n",
        "\n",
        "#ordenar, con tipos de datos mezclados no se puede porque no tienen congruencia\n",
        "print(frutas)\n",
        "frutas.sort()\n",
        "print(frutas)\n"
      ],
      "execution_count": null,
      "outputs": []
    },
    {
      "cell_type": "code",
      "metadata": {
        "id": "3fwdj4n_7F7O"
      },
      "source": [
        "# Slicing\n",
        "\n",
        "cosas = [\"cuaderno\", 2 , 3.1416 , True , False ,[\"Rojo\" , \"Azul\"] ]\n",
        "print(cosas[3:5:1])\n",
        "print(cosas)\n",
        "print(cosas[0][3:6:1])\n",
        "\n",
        "numeros = [0,1,2,3,4,5,6,7,8,9,10,11,12,13,14,15]\n",
        "print(numeros[8:13])\n",
        "\n",
        "#sustituar rebanadas -2,-2 ->[0,1,2,3,4,5,6,7,-2,-2,14,15]\n",
        "\n",
        "numeros[8:13:] = [-2,-2]\n",
        "print(numeros)\n",
        "\n",
        "#preguntar por existencia\n",
        "print(100 in numeros)"
      ],
      "execution_count": null,
      "outputs": []
    },
    {
      "cell_type": "markdown",
      "metadata": {
        "id": "OHoFXciZ-jTJ"
      },
      "source": [
        "# listas multi dimensión\n",
        "\n",
        "listas dentro de listas"
      ]
    },
    {
      "cell_type": "code",
      "metadata": {
        "id": "hfUz05-2-qiv",
        "outputId": "353564ca-7542-4d7a-c65d-2bfe1ebd8bba",
        "colab": {
          "base_uri": "https://localhost:8080/",
          "height": 190
        }
      },
      "source": [
        "computadoras = [\"HP\", \"Mac Book Pro 17\", \"Mate book\", \"Lenovo legion\"]\n",
        "oss = [\"Windows 10\", \"Linux\", \"Android\", \"iOS\"]\n",
        "\n",
        "computo = [computadoras, oss]\n",
        "print(computo[0])\n",
        "print(computo[1])\n",
        "\n",
        "print(computo[0][2])\n",
        "print(computo[0][2][0:5])\n",
        "print(computo[0][3][5::-1])\n",
        "print(computo[0][3][-8::-1])\n",
        "print('Linux' in computo[1])\n",
        "\n",
        "dbms = [[\"Mylsql\", \"Open Source\", False], [\"Ms SQL Server\", \"Paga\", True]]\n",
        "computo.append(dbms)\n",
        "print(computo)\n",
        "print(computo[2][1][1])\n"
      ],
      "execution_count": 74,
      "outputs": [
        {
          "output_type": "stream",
          "text": [
            "['HP', 'Mac Book Pro 17', 'Mate book', 'Lenovo legion']\n",
            "['Windows 10', 'Linux', 'Android', 'iOS']\n",
            "Mate book\n",
            "Mate \n",
            "ovoneL\n",
            "ovoneL\n",
            "True\n",
            "[['HP', 'Mac Book Pro 17', 'Mate book', 'Lenovo legion'], ['Windows 10', 'Linux', 'Android', 'iOS'], [['Mylsql', 'Open Source', False], ['Ms SQL Server', 'Paga', True]]]\n",
            "Paga\n"
          ],
          "name": "stdout"
        }
      ]
    }
  ]
}